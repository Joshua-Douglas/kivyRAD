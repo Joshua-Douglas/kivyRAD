{
 "cells": [
  {
   "cell_type": "markdown",
   "metadata": {},
   "source": [
    "# Add Python Source Code Hot Reload"
   ]
  },
  {
   "cell_type": "markdown",
   "metadata": {},
   "source": [
    "## Overview\n",
    "\n",
    "The application is currently able to visualize kvlang files, providing real-time updates each time the user updates a kvlang script. \n",
    "\n",
    "This issue is meant to expand the hot-reload visualization capabilities to include the visualization of kivy python types. This update should allow the user to visualize any custom defined kv widgets or kv application classes. The visualized code should run separate from the `kivydesigner` environment, and should use the end-user's development environment to execute the visualized code."
   ]
  },
  {
   "cell_type": "markdown",
   "metadata": {},
   "source": [
    "# Research \n",
    "\n",
    "## How can we execute code using a completely different version of kivy?\n",
    "\n",
    "To run a different version of kivy we would need to configure the visualization subprocess kernel to point towards a python environment with a different version of kivy installed. This is possible to achieve since we are purposefully visualizing the code in a separate process, but this will take some work and research. \n",
    "\n",
    "To simpify this current issue, let's visualize all of the end-user code using the same version of kivy as `kivydesigner`. The current design should be flexible enough to allow this future update. \n",
    "\n",
    "## How can we execute an end-user kivy class or widget in a subprocess we manage?\n",
    "\n",
    "### Requirement 1 of 3: Isolate our app environment from end-user's environment \n",
    "We need to ensure a clear separation between the `kivydesigner` process environment and the child process visualization environment. We should avoid sharing any environmental resources across the parent and child process. I believe this is possible using the `multiprocessing` module if we specify the `spawn` startup method. The `spawn`ed process will only share the minimum amount of resources required to execute the `run` method. As long as our run method only contains standard python objects (`str` of picked objects) then we should be able to entirely separate the environments. \n",
    "\n",
    "### Requirement 2 of 3: Configure end-user kivy environment to recognize custom widgets\n",
    "We will need to configure the kivy environment within the child process to match the requirements of the end-user application. This means that we need to update the child process kivy `Factory` to register each of the end-user's custom widgets, and the `Builder` to include each of the end-user's builder rules & styles. To start we can take the naive approach and pass a full list of kv files & widgets to the child process & direct the child process to register each item.  \n",
    "\n",
    "### Requirement 3 of 3: Restore visualization environment to clean state between reloads\n",
    "We need to design the visualization subprocess to be able to hot reload the code. This means we should be able to restore the environment to a clean state, and re-import each of the impacted modules. Hot reloading code in a limited way is hard to achieve without some specific knowledge of the code, because modules can have a complex interdependency. It *might* be possible to start with a clean environment and build an import tree. We might be able to use such an import tree to selectively reload portion of the code by trimming & reloading each of the child nodes of an impacted module. That would require a whole bunch of research, and should be left as a future possible refinement. For now we can take the brute force approach of deleteing all instance of the end-user's application and forcibly hot reloading everything.\n",
    "\n",
    "The absolute simpliest way to achieve this would be to restart the visualization interpreter session. This would have two major downsides: 1) restarting an interpreter is slow, and would cause a large delay between reload updates, 2) restarting the intepreter would close the current visualization window. It is much more user friendly to maintain a single visualization window through the hot reload development process. \n",
    "\n",
    "To avoid those two major downsides, we will maintain the current visualization approach. This appoach maintains a single window instance, and explicitely does not reload the kivy module between reloads. \n",
    "\n",
    "## How does the kivy designer visualize end user apps?\n",
    "\n",
    "The `kivydesigner` starts a separate process within `KivyDesignerApp._start_visualizing`. The process is instructed to execute the `hotreload.run_visualization_app` method. This method establishes an execution loop for the newly created process. The execution loop is controlled by the `visualization_instruction` instruction queue. Each time an instruction is received (unless it is a STOP instruction), a new kivy `App` is stopped and restared using the new instruction. The `App` is restarted in a way that maintains a single instance of the `kivy` `window` class. Since the visualization subprocess only supports `kvlang` file updates, the visualization process currently only creates and restarts a custom kvlang viewer app class `KvBuilderApp`. In principal, however, any app type can be visualized here. \n",
    "\n",
    "We will need to add instructions that allow visualizing custom applications and custom widgets.\n",
    "\n",
    "```\n",
    "# kivydesigner.py\n",
    "def _start_visualizing(self):\n",
    "        '''\n",
    "        Run the VisualizationSubprocess on a new child process. \n",
    "        Hot reloads can be performed by putting reload instructions\n",
    "        onto the visualization_instructions queue. \n",
    "        '''\n",
    "        # We are taking special care to avoid creating VisualizationSubprocess within\n",
    "        # this interpreter session to avoid initializing the VisualizationSubprocess \n",
    "        # app using the KivyDesignerApp config. Kivy's initialization relies on global \n",
    "        # singletons, so mixing the environments will cause the visualization to fail.\n",
    "        new_process = multiprocessing.Process(\n",
    "            target=run_visualization_app,\n",
    "            args=(self.visualization_instructions,)\n",
    "        )\n",
    "        new_process.start()\n",
    "        self.visualization_subprocess = new_process\n",
    "```\n",
    "\n",
    "## What is the sys.modules dictionary?\n",
    "\n",
    "The `sys.modules` dictionary that maps imported module names to their corresponding module objects. Each time a module is imported python adds an entry to this dictionary. \n",
    "\n",
    "The `sys.modules` dictionary can be used to check if a module has been imported, as follows:\n",
    "\n",
    "```\n",
    "if 'my_module' in sys.modules:\n",
    "    # my_module has been imported\n",
    "    my_module = sys.modules['my_module']\n",
    "else:\n",
    "    # my_module has not been imported\n",
    "    import my_module\n",
    "```\n",
    "\n",
    "This dictionary is read-only. \n",
    "\n",
    "## Can you remove entries from sys.modules?\n",
    "\n",
    "You can delete module entries from the `sys.modules` dictionary by calling `del sys.modules['my_module']`, but this command will not actually unload the module or remove it from memory. \n",
    "\n",
    "## How do you hot reload a python module?\n",
    "\n",
    "The python `importlib` provides a function to perform hot reloads on a module `importlib.reload(module_name: str)`. \n",
    "\n",
    "This method requires that the module have been successfully imported before. This method forces the python module code to be recompiled, and re-executes the module-level code. This method does not, however, does not delete references to the preexisting objects that were instantiated with the old definition. The reload function also retains the sys.module dictionary for that module. This is generally not a problem between the existing entries are typically overwritten during a reload - but this will cause old definitions to remain if the module was updated to delete or rename an item. \n",
    "\n",
    "## Can we forcefully unload an imported python module?\n",
    "\n",
    "It is possible to directy python to directly unload a module. Doing so requires a careful handling of module references and understanding of the garbage collection system. \n",
    "\n",
    "The `gc` module contains a method `gc.collect` that triggers the garbage collector to release any unreferenced objects, including modules that have been removed from the sys.modules dictionary. The garbage collector will only unload the module, however, if all references to objects defined within that module have been released. Therefore, if attempting to use gc.collect to forcefully unload the module we need to 1) carefully dereference all of the objects contained within that module, and 2) remove the modules from the `sys.modules` dictionary. \n",
    "\n",
    "There are major downsides to this approach, however:\n",
    "1) `gc.collect` is an expensive function call. This method will scan the heap to search for all objects with ref count of zero, so there could be a meaningful delay between reloads (of course, we should test this if the gc.collect approach has enough advantages)\n",
    "2) The `gc.collect` standard documentation does not contain any information about using the garbage collector to unload a module. In general all unreferenced objects should be destroyed when there are no outstanding references. I'm assuming that this would apply to module objects as well - but there very well could be some exceptions made for modules that I'm not aware of\n",
    "3) I cannot think of a way to explicitely test if a module other than testing if the module is stored within the `sys.modules` dictionary. This is not a perfect test though because deleting an entry from this dictionary does not unload the module. \n",
    "\n",
    "Overall I think it is just a lot safer to use the `importlib` library"
   ]
  },
  {
   "cell_type": "markdown",
   "metadata": {},
   "source": [
    "# General Solution Plan \n",
    "\n",
    "1. Update the visualization process creation code to explicitely specify the `spawn` startup mode. Other operating systems default to other startup modes, and these modes may share more resources in order to speed up the interpreter spinup. \n",
    "2. When the visualization subprocess is first created, import the kivy module & libs need by visualizer and then cache the following information:\n",
    "    * What modules are already available within sys.modules?\n",
    "    * Grab the initial state of the kivy `Factory` and `Builder`\n",
    "      * I'm not sure how to do this. Worst case we could pickle the initial objects and then directly overwrite them. It might be more efficient to grab the list of names/rules and explictely reset the managers. We'll see\n",
    "3. When the visualized application is stopped for a reload, perform the following environment cleanup tasks:\n",
    "    * Remove all references to existing visualized objects. \n",
    "      * Set the stopped app to None \n",
    "      * Unload all non-cached items from the `kivy` `Factory` & `Builder`\n",
    "    * Use the python `importlib.reload` function to reload every modules in `sys.module` that was not cached\n",
    "      * It is possible, but I think unlikely in most cases, that order will matter here. The module-level code may instantiate objects from other reloaded modules. We won't worry about these order specific concerens for now, unless our testing hits this issue. If it is an issue then we may need to store the module loading order (probably as a tree) or more forcefully unload all modules at the start of a reload\n",
    "4. Before the reload, configure the `Factory` and `Builder` objects to properly register the items required by the end user's application\n",
    "    * We will start out by brute forcing this. Scan the user project files and search for all of the kv files and py files. Find the widget & App classes within the py files and get their names. \n",
    "5. Add two visualization instructions:\n",
    "    * VisualizeKivyApp: This instruction should accept a class name, along with the module path, and allow the app to be visualized directly within the visualization process. The visualization code will need to import the module containing the class, instantiate the App, and run the App\n",
    "      * Some App classes may require some special setup code. This is an edge case since all Apps should be able to be modified to execute using the `Run()` method. In theory we could allow the user to specify their own App initialization script - but let's leave that as a possible future enhancement \n",
    "    * VisualizeKivyWidget: This instruction will also accept a class name and module path. For now the widget will be simply visualized using the default widget properties. This is a very significant shortcoming. Most widget require some setup to have a meaningful visualization. Adding this feature will be a priority once the hot reload capability has been demonstrated. \n",
    "\n",
    "\n"
   ]
  },
  {
   "cell_type": "markdown",
   "metadata": {},
   "source": [
    "# Implementation Questions\n"
   ]
  },
  {
   "cell_type": "markdown",
   "metadata": {},
   "source": [
    "# What information does the visualization subprocess need to execute a user-defined `App` class?\n",
    "\n",
    "# How do you search a py file for class definitions?\n",
    "We need to find all App and Widget descendants within each python file. We cannot expect all widget types to be a direct descendant of known kivy types. \n",
    "\n",
    "The `inspect` python module will return all of the base classes of a type, but this module requires live objects. We want to avoid executing the user's code, because this will require using their environment and we are trying to keep a clear separation between their environment and the kivy designer environment - plus actually executing their code can have some side effects. We should only do this execution during visualization, when they request it.\n",
    "\n",
    "Unfortunately we cannot we use the `ast` module to find all objects within a python file that descend from the `App` and `widget` class. The reason is that the AST tree only stores the direct class parents, and does not provide any reference to where those parents are declared. To build a more complete hierarchy tree we would need to search through all the available source files and build the hierarchy ourselves. "
   ]
  },
  {
   "cell_type": "code",
   "execution_count": 11,
   "metadata": {},
   "outputs": [
    {
     "ename": "AttributeError",
     "evalue": "'Name' object has no attribute 'bases'",
     "output_type": "error",
     "traceback": [
      "\u001b[1;31m---------------------------------------------------------------------------\u001b[0m",
      "\u001b[1;31mAttributeError\u001b[0m                            Traceback (most recent call last)",
      "Cell \u001b[1;32mIn[11], line 21\u001b[0m\n\u001b[0;32m     18\u001b[0m             \u001b[39mreturn\u001b[39;00m \u001b[39mTrue\u001b[39;00m\n\u001b[0;32m     19\u001b[0m     \u001b[39mreturn\u001b[39;00m \u001b[39mFalse\u001b[39;00m\n\u001b[1;32m---> 21\u001b[0m subclasses \u001b[39m=\u001b[39m get_subclasses_of_widget(\u001b[39m\"\u001b[39;49m\u001b[39mC:\u001b[39;49m\u001b[39m\\\\\u001b[39;49;00m\u001b[39mUsers\u001b[39;49m\u001b[39m\\\\\u001b[39;49;00m\u001b[39mjoshu\u001b[39;49m\u001b[39m\\\\\u001b[39;49;00m\u001b[39msource\u001b[39;49m\u001b[39m\\\\\u001b[39;49;00m\u001b[39mrepos\u001b[39;49m\u001b[39m\\\\\u001b[39;49;00m\u001b[39mkivydesigner\u001b[39;49m\u001b[39m\\\\\u001b[39;49;00m\u001b[39mkivydesigner\u001b[39;49m\u001b[39m\\\\\u001b[39;49;00m\u001b[39muix\u001b[39;49m\u001b[39m\\\\\u001b[39;49;00m\u001b[39mkdfilechooser.py\u001b[39;49m\u001b[39m\"\u001b[39;49m)\n\u001b[0;32m     22\u001b[0m \u001b[39mprint\u001b[39m(subclasses)\n",
      "Cell \u001b[1;32mIn[11], line 9\u001b[0m, in \u001b[0;36mget_subclasses_of_widget\u001b[1;34m(filename)\u001b[0m\n\u001b[0;32m      7\u001b[0m     \u001b[39mfor\u001b[39;00m node \u001b[39min\u001b[39;00m ast\u001b[39m.\u001b[39miter_child_nodes(tree):\n\u001b[0;32m      8\u001b[0m         \u001b[39mif\u001b[39;00m \u001b[39misinstance\u001b[39m(node, ast\u001b[39m.\u001b[39mClassDef):\n\u001b[1;32m----> 9\u001b[0m             \u001b[39mif\u001b[39;00m is_derived_from_widget(node):\n\u001b[0;32m     10\u001b[0m                 subclasses\u001b[39m.\u001b[39mappend(node\u001b[39m.\u001b[39mname)\n\u001b[0;32m     11\u001b[0m \u001b[39mreturn\u001b[39;00m subclasses\n",
      "Cell \u001b[1;32mIn[11], line 17\u001b[0m, in \u001b[0;36mis_derived_from_widget\u001b[1;34m(node)\u001b[0m\n\u001b[0;32m     15\u001b[0m     \u001b[39mif\u001b[39;00m \u001b[39misinstance\u001b[39m(base, ast\u001b[39m.\u001b[39mName) \u001b[39mand\u001b[39;00m base\u001b[39m.\u001b[39mid \u001b[39m==\u001b[39m \u001b[39m\"\u001b[39m\u001b[39mWidget\u001b[39m\u001b[39m\"\u001b[39m:\n\u001b[0;32m     16\u001b[0m         \u001b[39mreturn\u001b[39;00m \u001b[39mTrue\u001b[39;00m\n\u001b[1;32m---> 17\u001b[0m     \u001b[39melif\u001b[39;00m is_derived_from_widget(base): \u001b[39m#ERROR. Can't recursively traverse the tree this way. Base has no attr bases.\u001b[39;00m\n\u001b[0;32m     18\u001b[0m         \u001b[39mreturn\u001b[39;00m \u001b[39mTrue\u001b[39;00m\n\u001b[0;32m     19\u001b[0m \u001b[39mreturn\u001b[39;00m \u001b[39mFalse\u001b[39;00m\n",
      "Cell \u001b[1;32mIn[11], line 14\u001b[0m, in \u001b[0;36mis_derived_from_widget\u001b[1;34m(node)\u001b[0m\n\u001b[0;32m     13\u001b[0m \u001b[39mdef\u001b[39;00m \u001b[39mis_derived_from_widget\u001b[39m(node):\n\u001b[1;32m---> 14\u001b[0m     \u001b[39mfor\u001b[39;00m base \u001b[39min\u001b[39;00m node\u001b[39m.\u001b[39;49mbases:\n\u001b[0;32m     15\u001b[0m         \u001b[39mif\u001b[39;00m \u001b[39misinstance\u001b[39m(base, ast\u001b[39m.\u001b[39mName) \u001b[39mand\u001b[39;00m base\u001b[39m.\u001b[39mid \u001b[39m==\u001b[39m \u001b[39m\"\u001b[39m\u001b[39mWidget\u001b[39m\u001b[39m\"\u001b[39m:\n\u001b[0;32m     16\u001b[0m             \u001b[39mreturn\u001b[39;00m \u001b[39mTrue\u001b[39;00m\n",
      "\u001b[1;31mAttributeError\u001b[0m: 'Name' object has no attribute 'bases'"
     ]
    }
   ],
   "source": [
    "import ast\n",
    "\n",
    "def get_subclasses_of_widget(filename):\n",
    "    subclasses = []\n",
    "    with open(filename, \"r\") as f:\n",
    "        tree = ast.parse(f.read())\n",
    "        for node in ast.iter_child_nodes(tree):\n",
    "            if isinstance(node, ast.ClassDef):\n",
    "                if is_derived_from_widget(node):\n",
    "                    subclasses.append(node.name)\n",
    "    return subclasses\n",
    "\n",
    "def is_derived_from_widget(node):\n",
    "    for base in node.bases:\n",
    "        if isinstance(base, ast.Name) and base.id == \"Widget\":\n",
    "            return True\n",
    "        elif is_derived_from_widget(base): #ERROR. Can't recursively traverse the tree this way. Base has no attr bases.\n",
    "            return True\n",
    "    return False\n",
    "\n",
    "subclasses = get_subclasses_of_widget(\"C:\\\\Users\\\\joshu\\\\source\\\\repos\\\\kivydesigner\\\\kivydesigner\\\\uix\\\\kdfilechooser.py\")\n",
    "print(subclasses)\n"
   ]
  },
  {
   "cell_type": "markdown",
   "metadata": {},
   "source": [
    "# How can we reset the kivy Factory Object?\n",
    "\n",
    "# How can we reset the kivy Builder Object?"
   ]
  },
  {
   "cell_type": "markdown",
   "metadata": {},
   "source": []
  }
 ],
 "metadata": {
  "kernelspec": {
   "display_name": "Python 3.10.7 ('kvStudio': venv)",
   "language": "python",
   "name": "python3"
  },
  "language_info": {
   "codemirror_mode": {
    "name": "ipython",
    "version": 3
   },
   "file_extension": ".py",
   "mimetype": "text/x-python",
   "name": "python",
   "nbconvert_exporter": "python",
   "pygments_lexer": "ipython3",
   "version": "3.10.7"
  },
  "orig_nbformat": 4,
  "vscode": {
   "interpreter": {
    "hash": "0642035e1baa4a33fb835d40dda057d929d98b126af0e42e1d81822985584e00"
   }
  }
 },
 "nbformat": 4,
 "nbformat_minor": 2
}
