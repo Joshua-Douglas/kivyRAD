{
 "cells": [
  {
   "cell_type": "markdown",
   "metadata": {},
   "source": [
    "# Display of List of Available Widgets to Display \n",
    "\n",
    "## Overview \n",
    "\n",
    "The visualizer is planned to support three visualization modes:\n",
    "1. Visualize updates to a standalone kvlang script\n",
    "2. Visualize updates to an existing kivy widget\n",
    "3. Visualize updates to an existing kivy application \n",
    "\n",
    "To allow the user to choose what to visualize, we should populate a listbox that displays each of the visualization options. The user will be able to select which item they would like to visualize. Switching between items will update the visualization. \n",
    "\n",
    "## Research\n",
    "\n",
    "### How do you search a py file for class definitions?\n",
    "We need to find all App and Widget descendants within each python file. We cannot expect all widget types to be a direct descendant of known kivy types. \n",
    "\n",
    "The `inspect` python module will return all of the base classes of a type, but this module requires live objects. We want to avoid executing the user's code, because this will require using their environment and we are trying to keep a clear separation between their environment and the kivy designer environment - plus actually executing their code can have some side effects. We should only do this execution during visualization, when they request it.\n",
    "\n",
    "Unfortunately we cannot we use the `ast` module to find all objects within a python file that descend from the `App` and `widget` class. The reason is that the AST tree only stores the direct class parents, and does not provide any reference to where those parents are declared. To build a more complete hierarchy tree we would need to search through all the available source files and build the hierarchy ourselves. \n"
   ]
  },
  {
   "cell_type": "code",
   "execution_count": null,
   "metadata": {},
   "outputs": [],
   "source": [
    "import ast\n",
    "\n",
    "# This code fails because ast does not store detailed information\n",
    "# about ClassDef parents\n",
    "\n",
    "def get_subclasses_of_widget(filename):\n",
    "    subclasses = []\n",
    "    with open(filename, \"r\") as f:\n",
    "        tree = ast.parse(f.read())\n",
    "        for node in ast.iter_child_nodes(tree):\n",
    "            if isinstance(node, ast.ClassDef):\n",
    "                if is_derived_from_widget(node):\n",
    "                    subclasses.append(node.name)\n",
    "    return subclasses\n",
    "\n",
    "def is_derived_from_widget(node):\n",
    "    for base in node.bases:\n",
    "        if isinstance(base, ast.Name) and base.id == \"Widget\":\n",
    "            return True\n",
    "        elif is_derived_from_widget(base): #ERROR. Can't recursively traverse the tree this way. Base has no attr bases.\n",
    "            return True\n",
    "    return False\n",
    "\n",
    "subclasses = get_subclasses_of_widget(\"C:\\\\Users\\\\joshu\\\\source\\\\repos\\\\kivydesigner\\\\kivydesigner\\\\uix\\\\kdfilechooser.py\")\n",
    "print(subclasses)\n"
   ]
  },
  {
   "cell_type": "markdown",
   "metadata": {},
   "source": [
    "### What entries should the listbox contain?\n",
    "\n",
    "(In this order)\n",
    "1. Names of custom user defined applications\n",
    "2. Names of custom user defined kvlang scripts\n",
    "3. Names of custom user defined widgets\n",
    "4. Names of kivy standard library widgets\n",
    "\n",
    "In the future we should also populate the listbox with kivy garden widgets. \n",
    "\n",
    "### How should the entries be displayed?\n",
    "\n",
    "A treeview would be appropriate here, since this will allow us to categorize the widgets into groups. \n",
    "\n",
    "Unfortunately, we probably won't be able to reuse some of the styling work we did on the kdfileviewer since the file viewer has a complex interplay of objects - but we can apply the same learnings here at the expense of some duplication. \n",
    "\n",
    "### How are custom attribute types declared?\n",
    "\n",
    "To-Do here\n",
    "\n",
    "## General Solution Plan\n",
    "\n"
   ]
  },
  {
   "cell_type": "markdown",
   "metadata": {},
   "source": [
    "1. Add a WidgetScanner class that can recursively search a file directory for `Widget` and `App` classes. The search should avoid compiling any code, so our plan is to use the abstract syntax tree\n",
    "    * The WidgetScanner class should accept the root file directory\n",
    "    * It should return the module filepath for each class type\n",
    "    * It should provide the four groups of widget types specified in the research section (kvfiles, user Apps, user widgets, kivy widgets)\n",
    "    * It should provide a mechanism to rescan file(s) on update, without rescanning the entire directory\n",
    "2. Use the WidgetScanner class to find all of the `Widget` and `App` within the `kivy` standard library (for the current version for now), and store these class names in a list\n",
    "3. Use the list of kivy standard library classes to improve the search within WidgetScanner. The WidgetScanner doesn't need to search up to the widget. It can stop at any of the standard library classes\n",
    "4. Our search will not be perfect since the ast does not provide detailed information about the parents. Since the ast does not state where the parent class is declared, our imperfect search will have a very small probability of returning false positive (if there is another class in another namespace with the same name as a kivy standard library widget), and we risk missing widgets if the widget descends from a third-party widget that is not present in the available source files. To account for these rare failures, we should provide attributes to explicitely enable and disable the visualization (@disable_kv_vis, @enable_kv_vis)\n",
    "5. Use a tree view to display the four groups\n",
    "  * Let's stylize the tree in a separate issue. I'd like to wait until the visualizer is able to help us here \n",
    "6. Add a on_submit event handler that will send the proper update instruction to the visualizer whenever an item is selected. Create some dummy instructions for now since hot reloading for class types is not yet implemented"
   ]
  },
  {
   "cell_type": "markdown",
   "metadata": {},
   "source": [
    "## Implementation Questions\n",
    "\n",
    "### How should `WidgetScanner` search a directory for widgets and apps?\n",
    "\n",
    "Write a function that returns (app, widget, kvfile) lists.\n",
    "\n",
    "Make sure the search uses the new attributes\n",
    "\n",
    "\n",
    "### How should `WidgetScanner` store the widget types along with the filepath, to allow file-by-file update?\n",
    "\n",
    "\n"
   ]
  },
  {
   "cell_type": "code",
   "execution_count": 14,
   "metadata": {},
   "outputs": [
    {
     "name": "stdout",
     "output_type": "stream",
     "text": [
      "A: []\n",
      "B: ['A']\n",
      "C: ['B']\n"
     ]
    }
   ],
   "source": [
    "import ast \n",
    "from pathlib import Path\n",
    "\n",
    "'''\n",
    "        self.maybe_newline()\n",
    "        for deco in node.decorator_list:\n",
    "            self.fill(\"@\")\n",
    "            self.traverse(deco)\n",
    "        self.fill(\"class \" + node.name)\n",
    "        with self.delimit_if(\"(\", \")\", condition = node.bases or node.keywords):\n",
    "            comma = False\n",
    "            for e in node.bases:\n",
    "                if comma:\n",
    "                    self.write(\", \")\n",
    "                else:\n",
    "                    comma = True\n",
    "                self.traverse(e)\n",
    "            for e in node.keywords:\n",
    "                if comma:\n",
    "                    self.write(\", \")\n",
    "                else:\n",
    "                    comma = True\n",
    "                self.traverse(e)\n",
    "'''\n",
    "class bb:\n",
    "    pass\n",
    "\n",
    "class cc:\n",
    "    pass \n",
    "\n",
    "class aa(bb, cc):\n",
    "    pass \n",
    "\n",
    "class dd(aa, bb):\n",
    "    pass \n",
    "\n",
    "class ee(aa):\n",
    "    pass \n",
    "\n",
    "\n",
    "\n",
    "class ClassDefVisitor(ast.NodeVisitor):\n",
    "\n",
    "    def visit_ClassDef(self, node):\n",
    "        print(f'{node.name}: {[nd.id for nd in node.bases]}')\n",
    "        for base_node in node.bases:\n",
    "            self.visit(ast.Call(func=base_node))\n",
    "\n",
    "EX_FILE = \"C:\\\\Users\\\\joshu\\\\source\\\\repos\\\\kivydesigner\\\\kivydesigner\\\\uix\\\\kdfilechooser.py\"\n",
    "b  = Path(EX_FILE).read_text()\n",
    "tree = ast.parse(b)\n",
    "tree = ast.parse(\"class A: pass\\nclass B(A): pass\\nclass C(B): pass\")\n",
    "ClassDefVisitor().visit(tree)\n"
   ]
  },
  {
   "cell_type": "code",
   "execution_count": null,
   "metadata": {},
   "outputs": [],
   "source": []
  }
 ],
 "metadata": {
  "kernelspec": {
   "display_name": "Python 3.10.7 ('kvStudio': venv)",
   "language": "python",
   "name": "python3"
  },
  "language_info": {
   "codemirror_mode": {
    "name": "ipython",
    "version": 3
   },
   "file_extension": ".py",
   "mimetype": "text/x-python",
   "name": "python",
   "nbconvert_exporter": "python",
   "pygments_lexer": "ipython3",
   "version": "3.10.7"
  },
  "orig_nbformat": 4,
  "vscode": {
   "interpreter": {
    "hash": "0642035e1baa4a33fb835d40dda057d929d98b126af0e42e1d81822985584e00"
   }
  }
 },
 "nbformat": 4,
 "nbformat_minor": 2
}
